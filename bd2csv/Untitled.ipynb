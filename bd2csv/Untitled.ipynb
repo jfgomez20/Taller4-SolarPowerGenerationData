{
 "cells": [
  {
   "cell_type": "code",
   "execution_count": 1,
   "id": "9776e552-1f45-41d6-96e7-950cb09d4957",
   "metadata": {},
   "outputs": [
    {
     "name": "stdout",
     "output_type": "stream",
     "text": [
      "Collecting vega\n",
      "  Downloading vega-3.6.0-py3-none-any.whl (1.3 MB)\n",
      "Collecting altair\n",
      "  Downloading altair-4.2.0-py3-none-any.whl (812 kB)\n",
      "Collecting vega_datasets\n",
      "  Downloading vega_datasets-0.9.0-py3-none-any.whl (210 kB)\n",
      "Requirement already satisfied: entrypoints in c:\\users\\pc\\anaconda3\\lib\\site-packages (from altair) (0.3)\n",
      "Requirement already satisfied: numpy in c:\\users\\pc\\anaconda3\\lib\\site-packages (from altair) (1.20.1)\n",
      "Requirement already satisfied: pandas>=0.18 in c:\\users\\pc\\anaconda3\\lib\\site-packages (from altair) (1.2.4)\n",
      "Requirement already satisfied: toolz in c:\\users\\pc\\anaconda3\\lib\\site-packages (from altair) (0.11.1)\n",
      "Requirement already satisfied: jsonschema>=3.0 in c:\\users\\pc\\anaconda3\\lib\\site-packages (from altair) (3.2.0)\n",
      "Requirement already satisfied: jinja2 in c:\\users\\pc\\anaconda3\\lib\\site-packages (from altair) (2.11.3)\n",
      "Requirement already satisfied: pyrsistent>=0.14.0 in c:\\users\\pc\\anaconda3\\lib\\site-packages (from jsonschema>=3.0->altair) (0.17.3)\n",
      "Requirement already satisfied: six>=1.11.0 in c:\\users\\pc\\anaconda3\\lib\\site-packages (from jsonschema>=3.0->altair) (1.15.0)\n",
      "Requirement already satisfied: attrs>=17.4.0 in c:\\users\\pc\\anaconda3\\lib\\site-packages (from jsonschema>=3.0->altair) (20.3.0)\n",
      "Requirement already satisfied: setuptools in c:\\users\\pc\\anaconda3\\lib\\site-packages (from jsonschema>=3.0->altair) (52.0.0.post20210125)\n",
      "Requirement already satisfied: python-dateutil>=2.7.3 in c:\\users\\pc\\anaconda3\\lib\\site-packages (from pandas>=0.18->altair) (2.8.1)\n",
      "Requirement already satisfied: pytz>=2017.3 in c:\\users\\pc\\anaconda3\\lib\\site-packages (from pandas>=0.18->altair) (2021.1)\n",
      "Requirement already satisfied: jupyter<2.0.0,>=1.0.0 in c:\\users\\pc\\anaconda3\\lib\\site-packages (from vega) (1.0.0)\n",
      "Requirement already satisfied: notebook in c:\\users\\pc\\anaconda3\\lib\\site-packages (from jupyter<2.0.0,>=1.0.0->vega) (6.3.0)\n",
      "Requirement already satisfied: qtconsole in c:\\users\\pc\\anaconda3\\lib\\site-packages (from jupyter<2.0.0,>=1.0.0->vega) (5.0.3)\n",
      "Requirement already satisfied: ipykernel in c:\\users\\pc\\anaconda3\\lib\\site-packages (from jupyter<2.0.0,>=1.0.0->vega) (5.3.4)\n",
      "Requirement already satisfied: nbconvert in c:\\users\\pc\\anaconda3\\lib\\site-packages (from jupyter<2.0.0,>=1.0.0->vega) (6.0.7)\n",
      "Requirement already satisfied: ipywidgets in c:\\users\\pc\\anaconda3\\lib\\site-packages (from jupyter<2.0.0,>=1.0.0->vega) (7.6.3)\n",
      "Requirement already satisfied: jupyter-console in c:\\users\\pc\\anaconda3\\lib\\site-packages (from jupyter<2.0.0,>=1.0.0->vega) (6.4.0)\n",
      "Requirement already satisfied: ipython>=5.0.0 in c:\\users\\pc\\anaconda3\\lib\\site-packages (from ipykernel->jupyter<2.0.0,>=1.0.0->vega) (7.22.0)\n",
      "Requirement already satisfied: traitlets>=4.1.0 in c:\\users\\pc\\anaconda3\\lib\\site-packages (from ipykernel->jupyter<2.0.0,>=1.0.0->vega) (5.0.5)\n",
      "Requirement already satisfied: tornado>=4.2 in c:\\users\\pc\\anaconda3\\lib\\site-packages (from ipykernel->jupyter<2.0.0,>=1.0.0->vega) (6.1)\n",
      "Requirement already satisfied: jupyter-client in c:\\users\\pc\\anaconda3\\lib\\site-packages (from ipykernel->jupyter<2.0.0,>=1.0.0->vega) (6.1.12)\n",
      "Requirement already satisfied: prompt-toolkit!=3.0.0,!=3.0.1,<3.1.0,>=2.0.0 in c:\\users\\pc\\anaconda3\\lib\\site-packages (from ipython>=5.0.0->ipykernel->jupyter<2.0.0,>=1.0.0->vega) (3.0.17)\n",
      "Requirement already satisfied: backcall in c:\\users\\pc\\anaconda3\\lib\\site-packages (from ipython>=5.0.0->ipykernel->jupyter<2.0.0,>=1.0.0->vega) (0.2.0)\n",
      "Requirement already satisfied: colorama in c:\\users\\pc\\anaconda3\\lib\\site-packages (from ipython>=5.0.0->ipykernel->jupyter<2.0.0,>=1.0.0->vega) (0.4.4)\n",
      "Requirement already satisfied: pickleshare in c:\\users\\pc\\anaconda3\\lib\\site-packages (from ipython>=5.0.0->ipykernel->jupyter<2.0.0,>=1.0.0->vega) (0.7.5)\n",
      "Requirement already satisfied: pygments in c:\\users\\pc\\anaconda3\\lib\\site-packages (from ipython>=5.0.0->ipykernel->jupyter<2.0.0,>=1.0.0->vega) (2.8.1)\n",
      "Requirement already satisfied: jedi>=0.16 in c:\\users\\pc\\anaconda3\\lib\\site-packages (from ipython>=5.0.0->ipykernel->jupyter<2.0.0,>=1.0.0->vega) (0.17.2)\n",
      "Requirement already satisfied: decorator in c:\\users\\pc\\anaconda3\\lib\\site-packages (from ipython>=5.0.0->ipykernel->jupyter<2.0.0,>=1.0.0->vega) (5.0.6)\n",
      "Requirement already satisfied: parso<0.8.0,>=0.7.0 in c:\\users\\pc\\anaconda3\\lib\\site-packages (from jedi>=0.16->ipython>=5.0.0->ipykernel->jupyter<2.0.0,>=1.0.0->vega) (0.7.0)\n",
      "Requirement already satisfied: wcwidth in c:\\users\\pc\\anaconda3\\lib\\site-packages (from prompt-toolkit!=3.0.0,!=3.0.1,<3.1.0,>=2.0.0->ipython>=5.0.0->ipykernel->jupyter<2.0.0,>=1.0.0->vega) (0.2.5)\n",
      "Requirement already satisfied: ipython-genutils in c:\\users\\pc\\anaconda3\\lib\\site-packages (from traitlets>=4.1.0->ipykernel->jupyter<2.0.0,>=1.0.0->vega) (0.2.0)\n",
      "Requirement already satisfied: widgetsnbextension~=3.5.0 in c:\\users\\pc\\anaconda3\\lib\\site-packages (from ipywidgets->jupyter<2.0.0,>=1.0.0->vega) (3.5.1)\n",
      "Requirement already satisfied: jupyterlab-widgets>=1.0.0 in c:\\users\\pc\\anaconda3\\lib\\site-packages (from ipywidgets->jupyter<2.0.0,>=1.0.0->vega) (1.0.0)\n",
      "Requirement already satisfied: nbformat>=4.2.0 in c:\\users\\pc\\anaconda3\\lib\\site-packages (from ipywidgets->jupyter<2.0.0,>=1.0.0->vega) (5.1.3)\n",
      "Requirement already satisfied: jupyter-core in c:\\users\\pc\\anaconda3\\lib\\site-packages (from nbformat>=4.2.0->ipywidgets->jupyter<2.0.0,>=1.0.0->vega) (4.7.1)\n",
      "Requirement already satisfied: prometheus-client in c:\\users\\pc\\anaconda3\\lib\\site-packages (from notebook->jupyter<2.0.0,>=1.0.0->vega) (0.10.1)\n",
      "Requirement already satisfied: argon2-cffi in c:\\users\\pc\\anaconda3\\lib\\site-packages (from notebook->jupyter<2.0.0,>=1.0.0->vega) (20.1.0)\n",
      "Requirement already satisfied: pyzmq>=17 in c:\\users\\pc\\anaconda3\\lib\\site-packages (from notebook->jupyter<2.0.0,>=1.0.0->vega) (20.0.0)\n",
      "Requirement already satisfied: Send2Trash>=1.5.0 in c:\\users\\pc\\anaconda3\\lib\\site-packages (from notebook->jupyter<2.0.0,>=1.0.0->vega) (1.5.0)\n",
      "Requirement already satisfied: terminado>=0.8.3 in c:\\users\\pc\\anaconda3\\lib\\site-packages (from notebook->jupyter<2.0.0,>=1.0.0->vega) (0.9.4)\n",
      "Requirement already satisfied: pywin32>=1.0 in c:\\users\\pc\\anaconda3\\lib\\site-packages (from jupyter-core->nbformat>=4.2.0->ipywidgets->jupyter<2.0.0,>=1.0.0->vega) (227)\n",
      "Requirement already satisfied: pywinpty>=0.5 in c:\\users\\pc\\anaconda3\\lib\\site-packages (from terminado>=0.8.3->notebook->jupyter<2.0.0,>=1.0.0->vega) (0.5.7)\n",
      "Requirement already satisfied: cffi>=1.0.0 in c:\\users\\pc\\anaconda3\\lib\\site-packages (from argon2-cffi->notebook->jupyter<2.0.0,>=1.0.0->vega) (1.14.5)\n",
      "Requirement already satisfied: pycparser in c:\\users\\pc\\anaconda3\\lib\\site-packages (from cffi>=1.0.0->argon2-cffi->notebook->jupyter<2.0.0,>=1.0.0->vega) (2.20)\n",
      "Requirement already satisfied: MarkupSafe>=0.23 in c:\\users\\pc\\anaconda3\\lib\\site-packages (from jinja2->altair) (1.1.1)\n",
      "Requirement already satisfied: pandocfilters>=1.4.1 in c:\\users\\pc\\anaconda3\\lib\\site-packages (from nbconvert->jupyter<2.0.0,>=1.0.0->vega) (1.4.3)\n",
      "Requirement already satisfied: defusedxml in c:\\users\\pc\\anaconda3\\lib\\site-packages (from nbconvert->jupyter<2.0.0,>=1.0.0->vega) (0.7.1)\n",
      "Requirement already satisfied: jupyterlab-pygments in c:\\users\\pc\\anaconda3\\lib\\site-packages (from nbconvert->jupyter<2.0.0,>=1.0.0->vega) (0.1.2)\n",
      "Requirement already satisfied: testpath in c:\\users\\pc\\anaconda3\\lib\\site-packages (from nbconvert->jupyter<2.0.0,>=1.0.0->vega) (0.4.4)\n",
      "Requirement already satisfied: nbclient<0.6.0,>=0.5.0 in c:\\users\\pc\\anaconda3\\lib\\site-packages (from nbconvert->jupyter<2.0.0,>=1.0.0->vega) (0.5.3)\n",
      "Requirement already satisfied: bleach in c:\\users\\pc\\anaconda3\\lib\\site-packages (from nbconvert->jupyter<2.0.0,>=1.0.0->vega) (3.3.0)\n",
      "Requirement already satisfied: mistune<2,>=0.8.1 in c:\\users\\pc\\anaconda3\\lib\\site-packages (from nbconvert->jupyter<2.0.0,>=1.0.0->vega) (0.8.4)\n",
      "Requirement already satisfied: async-generator in c:\\users\\pc\\anaconda3\\lib\\site-packages (from nbclient<0.6.0,>=0.5.0->nbconvert->jupyter<2.0.0,>=1.0.0->vega) (1.10)\n",
      "Requirement already satisfied: nest-asyncio in c:\\users\\pc\\anaconda3\\lib\\site-packages (from nbclient<0.6.0,>=0.5.0->nbconvert->jupyter<2.0.0,>=1.0.0->vega) (1.5.1)\n",
      "Requirement already satisfied: packaging in c:\\users\\pc\\anaconda3\\lib\\site-packages (from bleach->nbconvert->jupyter<2.0.0,>=1.0.0->vega) (20.9)\n",
      "Requirement already satisfied: webencodings in c:\\users\\pc\\anaconda3\\lib\\site-packages (from bleach->nbconvert->jupyter<2.0.0,>=1.0.0->vega) (0.5.1)\n",
      "Requirement already satisfied: pyparsing>=2.0.2 in c:\\users\\pc\\anaconda3\\lib\\site-packages (from packaging->bleach->nbconvert->jupyter<2.0.0,>=1.0.0->vega) (2.4.7)\n",
      "Requirement already satisfied: qtpy in c:\\users\\pc\\anaconda3\\lib\\site-packages (from qtconsole->jupyter<2.0.0,>=1.0.0->vega) (1.9.0)\n",
      "Installing collected packages: vega-datasets, vega, altair\n",
      "Successfully installed altair-4.2.0 vega-3.6.0 vega-datasets-0.9.0\n",
      "Requirement already satisfied: pandas-profiling[notebook] in c:\\users\\pc\\anaconda3\\lib\\site-packages (3.0.0)\n",
      "Requirement already satisfied: PyYAML>=5.0.0 in c:\\users\\pc\\anaconda3\\lib\\site-packages (from pandas-profiling[notebook]) (5.4.1)\n",
      "Requirement already satisfied: scipy>=1.4.1 in c:\\users\\pc\\anaconda3\\lib\\site-packages (from pandas-profiling[notebook]) (1.6.2)\n",
      "Requirement already satisfied: pandas!=1.0.0,!=1.0.1,!=1.0.2,!=1.1.0,>=0.25.3 in c:\\users\\pc\\anaconda3\\lib\\site-packages (from pandas-profiling[notebook]) (1.2.4)\n",
      "Requirement already satisfied: seaborn>=0.10.1 in c:\\users\\pc\\anaconda3\\lib\\site-packages (from pandas-profiling[notebook]) (0.11.1)\n",
      "Requirement already satisfied: tangled-up-in-unicode==0.1.0 in c:\\users\\pc\\anaconda3\\lib\\site-packages (from pandas-profiling[notebook]) (0.1.0)\n",
      "Requirement already satisfied: htmlmin>=0.1.12 in c:\\users\\pc\\anaconda3\\lib\\site-packages (from pandas-profiling[notebook]) (0.1.12)\n",
      "Requirement already satisfied: matplotlib>=3.2.0 in c:\\users\\pc\\anaconda3\\lib\\site-packages (from pandas-profiling[notebook]) (3.3.4)\n",
      "Requirement already satisfied: visions[type_image_path]==0.7.1 in c:\\users\\pc\\anaconda3\\lib\\site-packages (from pandas-profiling[notebook]) (0.7.1)\n",
      "Requirement already satisfied: requests>=2.24.0 in c:\\users\\pc\\anaconda3\\lib\\site-packages (from pandas-profiling[notebook]) (2.25.1)\n",
      "Requirement already satisfied: tqdm>=4.48.2 in c:\\users\\pc\\anaconda3\\lib\\site-packages (from pandas-profiling[notebook]) (4.59.0)\n",
      "Requirement already satisfied: joblib in c:\\users\\pc\\anaconda3\\lib\\site-packages (from pandas-profiling[notebook]) (1.0.1)\n",
      "Requirement already satisfied: numpy>=1.16.0 in c:\\users\\pc\\anaconda3\\lib\\site-packages (from pandas-profiling[notebook]) (1.20.1)\n",
      "Requirement already satisfied: missingno>=0.4.2 in c:\\users\\pc\\anaconda3\\lib\\site-packages (from pandas-profiling[notebook]) (0.4.2)\n",
      "Requirement already satisfied: phik>=0.11.1 in c:\\users\\pc\\anaconda3\\lib\\site-packages (from pandas-profiling[notebook]) (0.11.2)\n",
      "Requirement already satisfied: jinja2>=2.11.1 in c:\\users\\pc\\anaconda3\\lib\\site-packages (from pandas-profiling[notebook]) (2.11.3)\n",
      "Requirement already satisfied: pydantic>=1.8.1 in c:\\users\\pc\\anaconda3\\lib\\site-packages (from pandas-profiling[notebook]) (1.8.2)\n",
      "Requirement already satisfied: ipywidgets>=7.5.1 in c:\\users\\pc\\anaconda3\\lib\\site-packages (from pandas-profiling[notebook]) (7.6.3)\n",
      "Requirement already satisfied: jupyter-client>=6.0.0 in c:\\users\\pc\\anaconda3\\lib\\site-packages (from pandas-profiling[notebook]) (6.1.12)\n",
      "Requirement already satisfied: jupyter-core>=4.6.3 in c:\\users\\pc\\anaconda3\\lib\\site-packages (from pandas-profiling[notebook]) (4.7.1)\n",
      "Requirement already satisfied: attrs>=19.3.0 in c:\\users\\pc\\anaconda3\\lib\\site-packages (from visions[type_image_path]==0.7.1->pandas-profiling[notebook]) (20.3.0)\n",
      "Requirement already satisfied: bottleneck in c:\\users\\pc\\anaconda3\\lib\\site-packages (from visions[type_image_path]==0.7.1->pandas-profiling[notebook]) (1.3.2)\n",
      "Requirement already satisfied: multimethod==1.4 in c:\\users\\pc\\anaconda3\\lib\\site-packages (from visions[type_image_path]==0.7.1->pandas-profiling[notebook]) (1.4)\n",
      "Requirement already satisfied: networkx>=2.4 in c:\\users\\pc\\anaconda3\\lib\\site-packages (from visions[type_image_path]==0.7.1->pandas-profiling[notebook]) (2.5)\n",
      "Requirement already satisfied: imagehash in c:\\users\\pc\\anaconda3\\lib\\site-packages (from visions[type_image_path]==0.7.1->pandas-profiling[notebook]) (4.2.0)\n",
      "Requirement already satisfied: Pillow in c:\\users\\pc\\anaconda3\\lib\\site-packages (from visions[type_image_path]==0.7.1->pandas-profiling[notebook]) (8.2.0)\n",
      "Requirement already satisfied: traitlets>=4.3.1 in c:\\users\\pc\\anaconda3\\lib\\site-packages (from ipywidgets>=7.5.1->pandas-profiling[notebook]) (5.0.5)\n",
      "Requirement already satisfied: jupyterlab-widgets>=1.0.0 in c:\\users\\pc\\anaconda3\\lib\\site-packages (from ipywidgets>=7.5.1->pandas-profiling[notebook]) (1.0.0)\n",
      "Requirement already satisfied: ipykernel>=4.5.1 in c:\\users\\pc\\anaconda3\\lib\\site-packages (from ipywidgets>=7.5.1->pandas-profiling[notebook]) (5.3.4)\n",
      "Requirement already satisfied: nbformat>=4.2.0 in c:\\users\\pc\\anaconda3\\lib\\site-packages (from ipywidgets>=7.5.1->pandas-profiling[notebook]) (5.1.3)\n",
      "Requirement already satisfied: widgetsnbextension~=3.5.0 in c:\\users\\pc\\anaconda3\\lib\\site-packages (from ipywidgets>=7.5.1->pandas-profiling[notebook]) (3.5.1)\n",
      "Requirement already satisfied: ipython>=4.0.0 in c:\\users\\pc\\anaconda3\\lib\\site-packages (from ipywidgets>=7.5.1->pandas-profiling[notebook]) (7.22.0)\n",
      "Requirement already satisfied: tornado>=4.2 in c:\\users\\pc\\anaconda3\\lib\\site-packages (from ipykernel>=4.5.1->ipywidgets>=7.5.1->pandas-profiling[notebook]) (6.1)\n",
      "Requirement already satisfied: prompt-toolkit!=3.0.0,!=3.0.1,<3.1.0,>=2.0.0 in c:\\users\\pc\\anaconda3\\lib\\site-packages (from ipython>=4.0.0->ipywidgets>=7.5.1->pandas-profiling[notebook]) (3.0.17)\n",
      "Requirement already satisfied: setuptools>=18.5 in c:\\users\\pc\\anaconda3\\lib\\site-packages (from ipython>=4.0.0->ipywidgets>=7.5.1->pandas-profiling[notebook]) (52.0.0.post20210125)\n",
      "Requirement already satisfied: pygments in c:\\users\\pc\\anaconda3\\lib\\site-packages (from ipython>=4.0.0->ipywidgets>=7.5.1->pandas-profiling[notebook]) (2.8.1)\n",
      "Requirement already satisfied: colorama in c:\\users\\pc\\anaconda3\\lib\\site-packages (from ipython>=4.0.0->ipywidgets>=7.5.1->pandas-profiling[notebook]) (0.4.4)\n",
      "Requirement already satisfied: backcall in c:\\users\\pc\\anaconda3\\lib\\site-packages (from ipython>=4.0.0->ipywidgets>=7.5.1->pandas-profiling[notebook]) (0.2.0)\n",
      "Requirement already satisfied: pickleshare in c:\\users\\pc\\anaconda3\\lib\\site-packages (from ipython>=4.0.0->ipywidgets>=7.5.1->pandas-profiling[notebook]) (0.7.5)\n",
      "Requirement already satisfied: decorator in c:\\users\\pc\\anaconda3\\lib\\site-packages (from ipython>=4.0.0->ipywidgets>=7.5.1->pandas-profiling[notebook]) (5.0.6)\n",
      "Requirement already satisfied: jedi>=0.16 in c:\\users\\pc\\anaconda3\\lib\\site-packages (from ipython>=4.0.0->ipywidgets>=7.5.1->pandas-profiling[notebook]) (0.17.2)\n",
      "Requirement already satisfied: parso<0.8.0,>=0.7.0 in c:\\users\\pc\\anaconda3\\lib\\site-packages (from jedi>=0.16->ipython>=4.0.0->ipywidgets>=7.5.1->pandas-profiling[notebook]) (0.7.0)\n",
      "Requirement already satisfied: MarkupSafe>=0.23 in c:\\users\\pc\\anaconda3\\lib\\site-packages (from jinja2>=2.11.1->pandas-profiling[notebook]) (1.1.1)\n",
      "Requirement already satisfied: pyzmq>=13 in c:\\users\\pc\\anaconda3\\lib\\site-packages (from jupyter-client>=6.0.0->pandas-profiling[notebook]) (20.0.0)\n",
      "Requirement already satisfied: python-dateutil>=2.1 in c:\\users\\pc\\anaconda3\\lib\\site-packages (from jupyter-client>=6.0.0->pandas-profiling[notebook]) (2.8.1)\n",
      "Requirement already satisfied: pywin32>=1.0 in c:\\users\\pc\\anaconda3\\lib\\site-packages (from jupyter-core>=4.6.3->pandas-profiling[notebook]) (227)\n",
      "Requirement already satisfied: kiwisolver>=1.0.1 in c:\\users\\pc\\anaconda3\\lib\\site-packages (from matplotlib>=3.2.0->pandas-profiling[notebook]) (1.3.1)\n",
      "Requirement already satisfied: cycler>=0.10 in c:\\users\\pc\\anaconda3\\lib\\site-packages (from matplotlib>=3.2.0->pandas-profiling[notebook]) (0.10.0)\n",
      "Requirement already satisfied: pyparsing!=2.0.4,!=2.1.2,!=2.1.6,>=2.0.3 in c:\\users\\pc\\anaconda3\\lib\\site-packages (from matplotlib>=3.2.0->pandas-profiling[notebook]) (2.4.7)\n",
      "Requirement already satisfied: six in c:\\users\\pc\\anaconda3\\lib\\site-packages (from cycler>=0.10->matplotlib>=3.2.0->pandas-profiling[notebook]) (1.15.0)\n",
      "Requirement already satisfied: jsonschema!=2.5.0,>=2.4 in c:\\users\\pc\\anaconda3\\lib\\site-packages (from nbformat>=4.2.0->ipywidgets>=7.5.1->pandas-profiling[notebook]) (3.2.0)\n",
      "Requirement already satisfied: ipython-genutils in c:\\users\\pc\\anaconda3\\lib\\site-packages (from nbformat>=4.2.0->ipywidgets>=7.5.1->pandas-profiling[notebook]) (0.2.0)\n",
      "Requirement already satisfied: pyrsistent>=0.14.0 in c:\\users\\pc\\anaconda3\\lib\\site-packages (from jsonschema!=2.5.0,>=2.4->nbformat>=4.2.0->ipywidgets>=7.5.1->pandas-profiling[notebook]) (0.17.3)\n",
      "Requirement already satisfied: pytz>=2017.3 in c:\\users\\pc\\anaconda3\\lib\\site-packages (from pandas!=1.0.0,!=1.0.1,!=1.0.2,!=1.1.0,>=0.25.3->pandas-profiling[notebook]) (2021.1)\n",
      "Requirement already satisfied: wcwidth in c:\\users\\pc\\anaconda3\\lib\\site-packages (from prompt-toolkit!=3.0.0,!=3.0.1,<3.1.0,>=2.0.0->ipython>=4.0.0->ipywidgets>=7.5.1->pandas-profiling[notebook]) (0.2.5)\n",
      "Requirement already satisfied: typing-extensions>=3.7.4.3 in c:\\users\\pc\\anaconda3\\lib\\site-packages (from pydantic>=1.8.1->pandas-profiling[notebook]) (3.7.4.3)\n",
      "Requirement already satisfied: idna<3,>=2.5 in c:\\users\\pc\\anaconda3\\lib\\site-packages (from requests>=2.24.0->pandas-profiling[notebook]) (2.10)\n",
      "Requirement already satisfied: certifi>=2017.4.17 in c:\\users\\pc\\anaconda3\\lib\\site-packages (from requests>=2.24.0->pandas-profiling[notebook]) (2020.12.5)\n",
      "Requirement already satisfied: chardet<5,>=3.0.2 in c:\\users\\pc\\anaconda3\\lib\\site-packages (from requests>=2.24.0->pandas-profiling[notebook]) (4.0.0)\n",
      "Requirement already satisfied: urllib3<1.27,>=1.21.1 in c:\\users\\pc\\anaconda3\\lib\\site-packages (from requests>=2.24.0->pandas-profiling[notebook]) (1.26.4)\n",
      "Requirement already satisfied: notebook>=4.4.1 in c:\\users\\pc\\anaconda3\\lib\\site-packages (from widgetsnbextension~=3.5.0->ipywidgets>=7.5.1->pandas-profiling[notebook]) (6.3.0)\n",
      "Requirement already satisfied: Send2Trash>=1.5.0 in c:\\users\\pc\\anaconda3\\lib\\site-packages (from notebook>=4.4.1->widgetsnbextension~=3.5.0->ipywidgets>=7.5.1->pandas-profiling[notebook]) (1.5.0)\n",
      "Requirement already satisfied: prometheus-client in c:\\users\\pc\\anaconda3\\lib\\site-packages (from notebook>=4.4.1->widgetsnbextension~=3.5.0->ipywidgets>=7.5.1->pandas-profiling[notebook]) (0.10.1)\n",
      "Requirement already satisfied: argon2-cffi in c:\\users\\pc\\anaconda3\\lib\\site-packages (from notebook>=4.4.1->widgetsnbextension~=3.5.0->ipywidgets>=7.5.1->pandas-profiling[notebook]) (20.1.0)\n",
      "Requirement already satisfied: terminado>=0.8.3 in c:\\users\\pc\\anaconda3\\lib\\site-packages (from notebook>=4.4.1->widgetsnbextension~=3.5.0->ipywidgets>=7.5.1->pandas-profiling[notebook]) (0.9.4)\n",
      "Requirement already satisfied: nbconvert in c:\\users\\pc\\anaconda3\\lib\\site-packages (from notebook>=4.4.1->widgetsnbextension~=3.5.0->ipywidgets>=7.5.1->pandas-profiling[notebook]) (6.0.7)\n",
      "Requirement already satisfied: pywinpty>=0.5 in c:\\users\\pc\\anaconda3\\lib\\site-packages (from terminado>=0.8.3->notebook>=4.4.1->widgetsnbextension~=3.5.0->ipywidgets>=7.5.1->pandas-profiling[notebook]) (0.5.7)\n",
      "Requirement already satisfied: cffi>=1.0.0 in c:\\users\\pc\\anaconda3\\lib\\site-packages (from argon2-cffi->notebook>=4.4.1->widgetsnbextension~=3.5.0->ipywidgets>=7.5.1->pandas-profiling[notebook]) (1.14.5)\n",
      "Requirement already satisfied: pycparser in c:\\users\\pc\\anaconda3\\lib\\site-packages (from cffi>=1.0.0->argon2-cffi->notebook>=4.4.1->widgetsnbextension~=3.5.0->ipywidgets>=7.5.1->pandas-profiling[notebook]) (2.20)\n",
      "Requirement already satisfied: PyWavelets in c:\\users\\pc\\anaconda3\\lib\\site-packages (from imagehash->visions[type_image_path]==0.7.1->pandas-profiling[notebook]) (1.1.1)\n",
      "Requirement already satisfied: testpath in c:\\users\\pc\\anaconda3\\lib\\site-packages (from nbconvert->notebook>=4.4.1->widgetsnbextension~=3.5.0->ipywidgets>=7.5.1->pandas-profiling[notebook]) (0.4.4)\n",
      "Requirement already satisfied: defusedxml in c:\\users\\pc\\anaconda3\\lib\\site-packages (from nbconvert->notebook>=4.4.1->widgetsnbextension~=3.5.0->ipywidgets>=7.5.1->pandas-profiling[notebook]) (0.7.1)\n",
      "Requirement already satisfied: jupyterlab-pygments in c:\\users\\pc\\anaconda3\\lib\\site-packages (from nbconvert->notebook>=4.4.1->widgetsnbextension~=3.5.0->ipywidgets>=7.5.1->pandas-profiling[notebook]) (0.1.2)\n",
      "Requirement already satisfied: nbclient<0.6.0,>=0.5.0 in c:\\users\\pc\\anaconda3\\lib\\site-packages (from nbconvert->notebook>=4.4.1->widgetsnbextension~=3.5.0->ipywidgets>=7.5.1->pandas-profiling[notebook]) (0.5.3)\n",
      "Requirement already satisfied: entrypoints>=0.2.2 in c:\\users\\pc\\anaconda3\\lib\\site-packages (from nbconvert->notebook>=4.4.1->widgetsnbextension~=3.5.0->ipywidgets>=7.5.1->pandas-profiling[notebook]) (0.3)\n",
      "Requirement already satisfied: bleach in c:\\users\\pc\\anaconda3\\lib\\site-packages (from nbconvert->notebook>=4.4.1->widgetsnbextension~=3.5.0->ipywidgets>=7.5.1->pandas-profiling[notebook]) (3.3.0)\n",
      "Requirement already satisfied: mistune<2,>=0.8.1 in c:\\users\\pc\\anaconda3\\lib\\site-packages (from nbconvert->notebook>=4.4.1->widgetsnbextension~=3.5.0->ipywidgets>=7.5.1->pandas-profiling[notebook]) (0.8.4)\n",
      "Requirement already satisfied: pandocfilters>=1.4.1 in c:\\users\\pc\\anaconda3\\lib\\site-packages (from nbconvert->notebook>=4.4.1->widgetsnbextension~=3.5.0->ipywidgets>=7.5.1->pandas-profiling[notebook]) (1.4.3)\n",
      "Requirement already satisfied: nest-asyncio in c:\\users\\pc\\anaconda3\\lib\\site-packages (from nbclient<0.6.0,>=0.5.0->nbconvert->notebook>=4.4.1->widgetsnbextension~=3.5.0->ipywidgets>=7.5.1->pandas-profiling[notebook]) (1.5.1)\n",
      "Requirement already satisfied: async-generator in c:\\users\\pc\\anaconda3\\lib\\site-packages (from nbclient<0.6.0,>=0.5.0->nbconvert->notebook>=4.4.1->widgetsnbextension~=3.5.0->ipywidgets>=7.5.1->pandas-profiling[notebook]) (1.10)\n",
      "Requirement already satisfied: packaging in c:\\users\\pc\\anaconda3\\lib\\site-packages (from bleach->nbconvert->notebook>=4.4.1->widgetsnbextension~=3.5.0->ipywidgets>=7.5.1->pandas-profiling[notebook]) (20.9)\n",
      "Requirement already satisfied: webencodings in c:\\users\\pc\\anaconda3\\lib\\site-packages (from bleach->nbconvert->notebook>=4.4.1->widgetsnbextension~=3.5.0->ipywidgets>=7.5.1->pandas-profiling[notebook]) (0.5.1)\n"
     ]
    }
   ],
   "source": [
    "!pip install vega altair vega_datasets\n",
    "!pip install pandas-profiling[notebook]\n",
    "\n"
   ]
  },
  {
   "cell_type": "code",
   "execution_count": 53,
   "id": "d0c5a9fd-3fd2-4934-adf3-9cb8034adb72",
   "metadata": {},
   "outputs": [],
   "source": [
    "import pandas as pd\n",
    "import altair as alt\n",
    "p1_gendata =  pd.read_csv(\"Plant_1_Generation_Data.csv\")\n",
    "p1_weatherdata =  pd.read_csv(\"Plant_1_Weather_Sensor_Data.csv\")\n",
    "p2_gendata = pd.read_csv(\"Plant_2_Generation_Data.csv\")\n",
    "p2_weatherdata = pd.read_csv(\"Plant_2_Weather_Sensor_Data.csv\")"
   ]
  },
  {
   "cell_type": "code",
   "execution_count": 67,
   "id": "a6b2a993-2593-466b-979b-bed93d83529b",
   "metadata": {},
   "outputs": [
    {
     "data": {
      "text/plain": [
       "(68778, 7)"
      ]
     },
     "execution_count": 67,
     "metadata": {},
     "output_type": "execute_result"
    }
   ],
   "source": [
    "p1_gendata.shape"
   ]
  },
  {
   "cell_type": "code",
   "execution_count": 10,
   "id": "05167acc-eb35-4106-a8de-40c2ac601c16",
   "metadata": {},
   "outputs": [
    {
     "data": {
      "text/plain": [
       "DATE_TIME       object\n",
       "PLANT_ID         int64\n",
       "SOURCE_KEY      object\n",
       "DC_POWER       float64\n",
       "AC_POWER       float64\n",
       "DAILY_YIELD    float64\n",
       "TOTAL_YIELD    float64\n",
       "dtype: object"
      ]
     },
     "execution_count": 10,
     "metadata": {},
     "output_type": "execute_result"
    }
   ],
   "source": [
    "p1_gendata.dtypes"
   ]
  },
  {
   "cell_type": "code",
   "execution_count": 63,
   "id": "03edc427-3411-4719-8d33-bfc2dce27e76",
   "metadata": {},
   "outputs": [
    {
     "data": {
      "text/html": [
       "<div>\n",
       "<style scoped>\n",
       "    .dataframe tbody tr th:only-of-type {\n",
       "        vertical-align: middle;\n",
       "    }\n",
       "\n",
       "    .dataframe tbody tr th {\n",
       "        vertical-align: top;\n",
       "    }\n",
       "\n",
       "    .dataframe thead th {\n",
       "        text-align: right;\n",
       "    }\n",
       "</style>\n",
       "<table border=\"1\" class=\"dataframe\">\n",
       "  <thead>\n",
       "    <tr style=\"text-align: right;\">\n",
       "      <th></th>\n",
       "      <th>DATE_TIME</th>\n",
       "      <th>PLANT_ID</th>\n",
       "      <th>SOURCE_KEY</th>\n",
       "      <th>DC_POWER</th>\n",
       "      <th>AC_POWER</th>\n",
       "      <th>DAILY_YIELD</th>\n",
       "      <th>TOTAL_YIELD</th>\n",
       "    </tr>\n",
       "  </thead>\n",
       "  <tbody>\n",
       "    <tr>\n",
       "      <th>0</th>\n",
       "      <td>15-05-2020 00:00</td>\n",
       "      <td>4135001</td>\n",
       "      <td>1BY6WEcLGh8j5v7</td>\n",
       "      <td>0.0</td>\n",
       "      <td>0.0</td>\n",
       "      <td>0.0</td>\n",
       "      <td>6259559.0</td>\n",
       "    </tr>\n",
       "    <tr>\n",
       "      <th>1</th>\n",
       "      <td>15-05-2020 00:00</td>\n",
       "      <td>4135001</td>\n",
       "      <td>1IF53ai7Xc0U56Y</td>\n",
       "      <td>0.0</td>\n",
       "      <td>0.0</td>\n",
       "      <td>0.0</td>\n",
       "      <td>6183645.0</td>\n",
       "    </tr>\n",
       "    <tr>\n",
       "      <th>2</th>\n",
       "      <td>15-05-2020 00:00</td>\n",
       "      <td>4135001</td>\n",
       "      <td>3PZuoBAID5Wc2HD</td>\n",
       "      <td>0.0</td>\n",
       "      <td>0.0</td>\n",
       "      <td>0.0</td>\n",
       "      <td>6987759.0</td>\n",
       "    </tr>\n",
       "    <tr>\n",
       "      <th>3</th>\n",
       "      <td>15-05-2020 00:00</td>\n",
       "      <td>4135001</td>\n",
       "      <td>7JYdWkrLSPkdwr4</td>\n",
       "      <td>0.0</td>\n",
       "      <td>0.0</td>\n",
       "      <td>0.0</td>\n",
       "      <td>7602960.0</td>\n",
       "    </tr>\n",
       "    <tr>\n",
       "      <th>4</th>\n",
       "      <td>15-05-2020 00:00</td>\n",
       "      <td>4135001</td>\n",
       "      <td>McdE0feGgRqW7Ca</td>\n",
       "      <td>0.0</td>\n",
       "      <td>0.0</td>\n",
       "      <td>0.0</td>\n",
       "      <td>7158964.0</td>\n",
       "    </tr>\n",
       "  </tbody>\n",
       "</table>\n",
       "</div>"
      ],
      "text/plain": [
       "          DATE_TIME  PLANT_ID       SOURCE_KEY  DC_POWER  AC_POWER  \\\n",
       "0  15-05-2020 00:00   4135001  1BY6WEcLGh8j5v7       0.0       0.0   \n",
       "1  15-05-2020 00:00   4135001  1IF53ai7Xc0U56Y       0.0       0.0   \n",
       "2  15-05-2020 00:00   4135001  3PZuoBAID5Wc2HD       0.0       0.0   \n",
       "3  15-05-2020 00:00   4135001  7JYdWkrLSPkdwr4       0.0       0.0   \n",
       "4  15-05-2020 00:00   4135001  McdE0feGgRqW7Ca       0.0       0.0   \n",
       "\n",
       "   DAILY_YIELD  TOTAL_YIELD  \n",
       "0          0.0    6259559.0  \n",
       "1          0.0    6183645.0  \n",
       "2          0.0    6987759.0  \n",
       "3          0.0    7602960.0  \n",
       "4          0.0    7158964.0  "
      ]
     },
     "execution_count": 63,
     "metadata": {},
     "output_type": "execute_result"
    }
   ],
   "source": [
    "p1_gendata.head()"
   ]
  },
  {
   "cell_type": "code",
   "execution_count": 51,
   "id": "479cee6c-643f-4897-bbee-8013ae8bac88",
   "metadata": {},
   "outputs": [],
   "source": [
    "r2respuesta = p2_weatherdata[(p2_weatherdata['DATE_TIME'] >= '2020-06-01 06:00:00')&(p2_weatherdata['DATE_TIME'] <='2020-06-01 12:00:00') ]"
   ]
  },
  {
   "cell_type": "code",
   "execution_count": 52,
   "id": "08a414c6-e10d-49be-b6ab-2bf2fc6cec1a",
   "metadata": {},
   "outputs": [
    {
     "data": {
      "text/plain": [
       "(25, 6)"
      ]
     },
     "execution_count": 52,
     "metadata": {},
     "output_type": "execute_result"
    }
   ],
   "source": [
    "r2respuesta.shape"
   ]
  },
  {
   "cell_type": "code",
   "execution_count": 62,
   "id": "8c1aec70-b837-4e77-add5-ebc2bf3eeac8",
   "metadata": {},
   "outputs": [
    {
     "data": {
      "text/html": [
       "\n",
       "<div id=\"altair-viz-e8eefa6aa24f4ca388284440034e5bdc\"></div>\n",
       "<script type=\"text/javascript\">\n",
       "  var VEGA_DEBUG = (typeof VEGA_DEBUG == \"undefined\") ? {} : VEGA_DEBUG;\n",
       "  (function(spec, embedOpt){\n",
       "    let outputDiv = document.currentScript.previousElementSibling;\n",
       "    if (outputDiv.id !== \"altair-viz-e8eefa6aa24f4ca388284440034e5bdc\") {\n",
       "      outputDiv = document.getElementById(\"altair-viz-e8eefa6aa24f4ca388284440034e5bdc\");\n",
       "    }\n",
       "    const paths = {\n",
       "      \"vega\": \"https://cdn.jsdelivr.net/npm//vega@5?noext\",\n",
       "      \"vega-lib\": \"https://cdn.jsdelivr.net/npm//vega-lib?noext\",\n",
       "      \"vega-lite\": \"https://cdn.jsdelivr.net/npm//vega-lite@4.17.0?noext\",\n",
       "      \"vega-embed\": \"https://cdn.jsdelivr.net/npm//vega-embed@6?noext\",\n",
       "    };\n",
       "\n",
       "    function maybeLoadScript(lib, version) {\n",
       "      var key = `${lib.replace(\"-\", \"\")}_version`;\n",
       "      return (VEGA_DEBUG[key] == version) ?\n",
       "        Promise.resolve(paths[lib]) :\n",
       "        new Promise(function(resolve, reject) {\n",
       "          var s = document.createElement('script');\n",
       "          document.getElementsByTagName(\"head\")[0].appendChild(s);\n",
       "          s.async = true;\n",
       "          s.onload = () => {\n",
       "            VEGA_DEBUG[key] = version;\n",
       "            return resolve(paths[lib]);\n",
       "          };\n",
       "          s.onerror = () => reject(`Error loading script: ${paths[lib]}`);\n",
       "          s.src = paths[lib];\n",
       "        });\n",
       "    }\n",
       "\n",
       "    function showError(err) {\n",
       "      outputDiv.innerHTML = `<div class=\"error\" style=\"color:red;\">${err}</div>`;\n",
       "      throw err;\n",
       "    }\n",
       "\n",
       "    function displayChart(vegaEmbed) {\n",
       "      vegaEmbed(outputDiv, spec, embedOpt)\n",
       "        .catch(err => showError(`Javascript Error: ${err.message}<br>This usually means there's a typo in your chart specification. See the javascript console for the full traceback.`));\n",
       "    }\n",
       "\n",
       "    if(typeof define === \"function\" && define.amd) {\n",
       "      requirejs.config({paths});\n",
       "      require([\"vega-embed\"], displayChart, err => showError(`Error loading script: ${err.message}`));\n",
       "    } else {\n",
       "      maybeLoadScript(\"vega\", \"5\")\n",
       "        .then(() => maybeLoadScript(\"vega-lite\", \"4.17.0\"))\n",
       "        .then(() => maybeLoadScript(\"vega-embed\", \"6\"))\n",
       "        .catch(showError)\n",
       "        .then(() => displayChart(vegaEmbed));\n",
       "    }\n",
       "  })({\"config\": {\"view\": {\"continuousWidth\": 400, \"continuousHeight\": 300}}, \"data\": {\"name\": \"data-a9f4eaec21754626ac7c11b36ccf9073\"}, \"mark\": \"point\", \"encoding\": {\"color\": {\"aggregate\": \"count\", \"type\": \"nominal\"}, \"x\": {\"field\": \"AMBIENT_TEMPERATURE\", \"type\": \"quantitative\"}, \"y\": {\"field\": \"DATE_TIME\", \"type\": \"nominal\"}}, \"height\": 600, \"width\": 1000, \"$schema\": \"https://vega.github.io/schema/vega-lite/v4.17.0.json\", \"datasets\": {\"data-a9f4eaec21754626ac7c11b36ccf9073\": [{\"DATE_TIME\": \"2020-06-01 06:00:00\", \"PLANT_ID\": 4136001, \"SOURCE_KEY\": \"iq8k7ZNt4Mwm3w0\", \"AMBIENT_TEMPERATURE\": 23.470155033333327, \"MODULE_TEMPERATURE\": 22.829620200000004, \"IRRADIATION\": 0.0063919369866666}, {\"DATE_TIME\": \"2020-06-01 06:15:00\", \"PLANT_ID\": 4136001, \"SOURCE_KEY\": \"iq8k7ZNt4Mwm3w0\", \"AMBIENT_TEMPERATURE\": 23.67332510344828, \"MODULE_TEMPERATURE\": 23.338527344827583, \"IRRADIATION\": 0.0209013741034482}, {\"DATE_TIME\": \"2020-06-01 06:30:00\", \"PLANT_ID\": 4136001, \"SOURCE_KEY\": \"iq8k7ZNt4Mwm3w0\", \"AMBIENT_TEMPERATURE\": 23.979217633333327, \"MODULE_TEMPERATURE\": 23.886279333333327, \"IRRADIATION\": 0.0468731341666666}, {\"DATE_TIME\": \"2020-06-01 06:45:00\", \"PLANT_ID\": 4136001, \"SOURCE_KEY\": \"iq8k7ZNt4Mwm3w0\", \"AMBIENT_TEMPERATURE\": 24.209690400000003, \"MODULE_TEMPERATURE\": 25.161978166666664, \"IRRADIATION\": 0.0697066674666666}, {\"DATE_TIME\": \"2020-06-01 07:00:00\", \"PLANT_ID\": 4136001, \"SOURCE_KEY\": \"iq8k7ZNt4Mwm3w0\", \"AMBIENT_TEMPERATURE\": 24.567252344827587, \"MODULE_TEMPERATURE\": 26.587057137931037, \"IRRADIATION\": 0.0646242286206896}, {\"DATE_TIME\": \"2020-06-01 07:15:00\", \"PLANT_ID\": 4136001, \"SOURCE_KEY\": \"iq8k7ZNt4Mwm3w0\", \"AMBIENT_TEMPERATURE\": 24.835614033333336, \"MODULE_TEMPERATURE\": 27.84200043333333, \"IRRADIATION\": 0.1504371014}, {\"DATE_TIME\": \"2020-06-01 07:30:00\", \"PLANT_ID\": 4136001, \"SOURCE_KEY\": \"iq8k7ZNt4Mwm3w0\", \"AMBIENT_TEMPERATURE\": 25.36163324137931, \"MODULE_TEMPERATURE\": 30.20812979310345, \"IRRADIATION\": 0.1628700658620689}, {\"DATE_TIME\": \"2020-06-01 07:45:00\", \"PLANT_ID\": 4136001, \"SOURCE_KEY\": \"iq8k7ZNt4Mwm3w0\", \"AMBIENT_TEMPERATURE\": 25.5112201, \"MODULE_TEMPERATURE\": 29.69533993333333, \"IRRADIATION\": 0.1320704731333333}, {\"DATE_TIME\": \"2020-06-01 08:00:00\", \"PLANT_ID\": 4136001, \"SOURCE_KEY\": \"iq8k7ZNt4Mwm3w0\", \"AMBIENT_TEMPERATURE\": 25.689117433333333, \"MODULE_TEMPERATURE\": 29.60674846666667, \"IRRADIATION\": 0.161106645}, {\"DATE_TIME\": \"2020-06-01 08:15:00\", \"PLANT_ID\": 4136001, \"SOURCE_KEY\": \"iq8k7ZNt4Mwm3w0\", \"AMBIENT_TEMPERATURE\": 25.838382137931035, \"MODULE_TEMPERATURE\": 29.698359931034485, \"IRRADIATION\": 0.2175741148275862}, {\"DATE_TIME\": \"2020-06-01 08:30:00\", \"PLANT_ID\": 4136001, \"SOURCE_KEY\": \"iq8k7ZNt4Mwm3w0\", \"AMBIENT_TEMPERATURE\": 26.10598753333333, \"MODULE_TEMPERATURE\": 30.992041066666665, \"IRRADIATION\": 0.2816243653333333}, {\"DATE_TIME\": \"2020-06-01 08:45:00\", \"PLANT_ID\": 4136001, \"SOURCE_KEY\": \"iq8k7ZNt4Mwm3w0\", \"AMBIENT_TEMPERATURE\": 26.78541406896552, \"MODULE_TEMPERATURE\": 35.383090241379314, \"IRRADIATION\": 0.547218646551724}, {\"DATE_TIME\": \"2020-06-01 09:00:00\", \"PLANT_ID\": 4136001, \"SOURCE_KEY\": \"iq8k7ZNt4Mwm3w0\", \"AMBIENT_TEMPERATURE\": 27.515931200000004, \"MODULE_TEMPERATURE\": 39.75073440000002, \"IRRADIATION\": 0.6603211486666669}, {\"DATE_TIME\": \"2020-06-01 09:15:00\", \"PLANT_ID\": 4136001, \"SOURCE_KEY\": \"iq8k7ZNt4Mwm3w0\", \"AMBIENT_TEMPERATURE\": 28.245770233333328, \"MODULE_TEMPERATURE\": 41.81874679999999, \"IRRADIATION\": 0.6987364796666666}, {\"DATE_TIME\": \"2020-06-01 09:30:00\", \"PLANT_ID\": 4136001, \"SOURCE_KEY\": \"iq8k7ZNt4Mwm3w0\", \"AMBIENT_TEMPERATURE\": 29.05904, \"MODULE_TEMPERATURE\": 46.36068413793104, \"IRRADIATION\": 0.8137932979310345}, {\"DATE_TIME\": \"2020-06-01 09:45:00\", \"PLANT_ID\": 4136001, \"SOURCE_KEY\": \"iq8k7ZNt4Mwm3w0\", \"AMBIENT_TEMPERATURE\": 29.394693966666665, \"MODULE_TEMPERATURE\": 49.35060226666668, \"IRRADIATION\": 0.7883443606666666}, {\"DATE_TIME\": \"2020-06-01 10:00:00\", \"PLANT_ID\": 4136001, \"SOURCE_KEY\": \"iq8k7ZNt4Mwm3w0\", \"AMBIENT_TEMPERATURE\": 29.30169255172414, \"MODULE_TEMPERATURE\": 47.55944086206897, \"IRRADIATION\": 0.6254762248275861}, {\"DATE_TIME\": \"2020-06-01 10:15:00\", \"PLANT_ID\": 4136001, \"SOURCE_KEY\": \"iq8k7ZNt4Mwm3w0\", \"AMBIENT_TEMPERATURE\": 29.8226225, \"MODULE_TEMPERATURE\": 50.4896434, \"IRRADIATION\": 0.9184480953333332}, {\"DATE_TIME\": \"2020-06-01 10:30:00\", \"PLANT_ID\": 4136001, \"SOURCE_KEY\": \"iq8k7ZNt4Mwm3w0\", \"AMBIENT_TEMPERATURE\": 30.160547758620687, \"MODULE_TEMPERATURE\": 49.79540931034483, \"IRRADIATION\": 0.6883862282758619}, {\"DATE_TIME\": \"2020-06-01 10:45:00\", \"PLANT_ID\": 4136001, \"SOURCE_KEY\": \"iq8k7ZNt4Mwm3w0\", \"AMBIENT_TEMPERATURE\": 30.09952903333333, \"MODULE_TEMPERATURE\": 43.9329496, \"IRRADIATION\": 0.3199997146666665}, {\"DATE_TIME\": \"2020-06-01 11:00:00\", \"PLANT_ID\": 4136001, \"SOURCE_KEY\": \"iq8k7ZNt4Mwm3w0\", \"AMBIENT_TEMPERATURE\": 30.165436866666667, \"MODULE_TEMPERATURE\": 41.23620903333333, \"IRRADIATION\": 0.3167546243333333}, {\"DATE_TIME\": \"2020-06-01 11:15:00\", \"PLANT_ID\": 4136001, \"SOURCE_KEY\": \"iq8k7ZNt4Mwm3w0\", \"AMBIENT_TEMPERATURE\": 30.59765, \"MODULE_TEMPERATURE\": 43.20352179310344, \"IRRADIATION\": 0.4543418306896551}, {\"DATE_TIME\": \"2020-06-01 11:30:00\", \"PLANT_ID\": 4136001, \"SOURCE_KEY\": \"iq8k7ZNt4Mwm3w0\", \"AMBIENT_TEMPERATURE\": 30.9631358, \"MODULE_TEMPERATURE\": 43.168145766666655, \"IRRADIATION\": 0.352625237}, {\"DATE_TIME\": \"2020-06-01 11:45:00\", \"PLANT_ID\": 4136001, \"SOURCE_KEY\": \"iq8k7ZNt4Mwm3w0\", \"AMBIENT_TEMPERATURE\": 30.702194655172413, \"MODULE_TEMPERATURE\": 39.67880793103448, \"IRRADIATION\": 0.4859102437931034}, {\"DATE_TIME\": \"2020-06-01 12:00:00\", \"PLANT_ID\": 4136001, \"SOURCE_KEY\": \"iq8k7ZNt4Mwm3w0\", \"AMBIENT_TEMPERATURE\": 32.09725336666666, \"MODULE_TEMPERATURE\": 53.4779175, \"IRRADIATION\": 1.0797786666666669}]}}, {\"mode\": \"vega-lite\"});\n",
       "</script>"
      ],
      "text/plain": [
       "alt.Chart(...)"
      ]
     },
     "execution_count": 62,
     "metadata": {},
     "output_type": "execute_result"
    }
   ],
   "source": [
    "alt.Chart(r2respuesta).mark_point().encode(\n",
    "    alt.X('AMBIENT_TEMPERATURE:Q'),\n",
    "    alt.Y('DATE_TIME:N'),\n",
    "    alt.Color('count():N') # Discriminating by color\n",
    ").properties(\n",
    "    width = 1000,\n",
    "    height = 600\n",
    ")"
   ]
  },
  {
   "cell_type": "code",
   "execution_count": 64,
   "id": "ea25fe2d-2954-42b8-a3d0-a914baee610e",
   "metadata": {},
   "outputs": [],
   "source": [
    "r3respuesta = p1_gendata[(p1_gendata['SOURCE_KEY']=='adLQvlD726eNBSB')&(p1_gendata['DATE_TIME']=='15-05-2020 14:15')]"
   ]
  },
  {
   "cell_type": "code",
   "execution_count": 65,
   "id": "9851e563-2fc5-4488-bd3a-14af131a3b10",
   "metadata": {},
   "outputs": [
    {
     "data": {
      "text/html": [
       "<div>\n",
       "<style scoped>\n",
       "    .dataframe tbody tr th:only-of-type {\n",
       "        vertical-align: middle;\n",
       "    }\n",
       "\n",
       "    .dataframe tbody tr th {\n",
       "        vertical-align: top;\n",
       "    }\n",
       "\n",
       "    .dataframe thead th {\n",
       "        text-align: right;\n",
       "    }\n",
       "</style>\n",
       "<table border=\"1\" class=\"dataframe\">\n",
       "  <thead>\n",
       "    <tr style=\"text-align: right;\">\n",
       "      <th></th>\n",
       "      <th>DATE_TIME</th>\n",
       "      <th>PLANT_ID</th>\n",
       "      <th>SOURCE_KEY</th>\n",
       "      <th>DC_POWER</th>\n",
       "      <th>AC_POWER</th>\n",
       "      <th>DAILY_YIELD</th>\n",
       "      <th>TOTAL_YIELD</th>\n",
       "    </tr>\n",
       "  </thead>\n",
       "  <tbody>\n",
       "    <tr>\n",
       "      <th>1244</th>\n",
       "      <td>15-05-2020 14:15</td>\n",
       "      <td>4135001</td>\n",
       "      <td>adLQvlD726eNBSB</td>\n",
       "      <td>12319.14286</td>\n",
       "      <td>1201.442857</td>\n",
       "      <td>4633.142857</td>\n",
       "      <td>6275988.143</td>\n",
       "    </tr>\n",
       "  </tbody>\n",
       "</table>\n",
       "</div>"
      ],
      "text/plain": [
       "             DATE_TIME  PLANT_ID       SOURCE_KEY     DC_POWER     AC_POWER  \\\n",
       "1244  15-05-2020 14:15   4135001  adLQvlD726eNBSB  12319.14286  1201.442857   \n",
       "\n",
       "      DAILY_YIELD  TOTAL_YIELD  \n",
       "1244  4633.142857  6275988.143  "
      ]
     },
     "execution_count": 65,
     "metadata": {},
     "output_type": "execute_result"
    }
   ],
   "source": [
    "r3respuesta.head()"
   ]
  },
  {
   "cell_type": "code",
   "execution_count": null,
   "id": "42dd84db-7dfc-470e-9004-79043de40520",
   "metadata": {},
   "outputs": [],
   "source": []
  }
 ],
 "metadata": {
  "kernelspec": {
   "display_name": "Python 3",
   "language": "python",
   "name": "python3"
  },
  "language_info": {
   "codemirror_mode": {
    "name": "ipython",
    "version": 3
   },
   "file_extension": ".py",
   "mimetype": "text/x-python",
   "name": "python",
   "nbconvert_exporter": "python",
   "pygments_lexer": "ipython3",
   "version": "3.8.8"
  }
 },
 "nbformat": 4,
 "nbformat_minor": 5
}
